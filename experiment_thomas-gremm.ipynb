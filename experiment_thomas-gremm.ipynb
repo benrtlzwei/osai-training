{
 "cells": [
  {
   "cell_type": "code",
   "execution_count": 1,
   "id": "7d29c602-8d09-448f-a79d-3b16bd7640de",
   "metadata": {
    "tags": []
   },
   "outputs": [
    {
     "name": "stdout",
     "output_type": "stream",
     "text": [
      "Hi folks!\n"
     ]
    }
   ],
   "source": [
    "print (\"Hi folks!\")"
   ]
  },
  {
   "cell_type": "code",
   "execution_count": null,
   "id": "e3b3d031-a5ba-4896-a8ee-cb69c3713f4e",
   "metadata": {},
   "outputs": [],
   "source": []
  }
 ],
 "metadata": {
  "kernelspec": {
   "display_name": "Python 3.9",
   "language": "python",
   "name": "python3"
  },
  "language_info": {
   "codemirror_mode": {
    "name": "ipython",
    "version": 3
   },
   "file_extension": ".py",
   "mimetype": "text/x-python",
   "name": "python",
   "nbconvert_exporter": "python",
   "pygments_lexer": "ipython3",
   "version": "3.9.16"
  }
 },
 "nbformat": 4,
 "nbformat_minor": 5
}
